{
 "cells": [
  {
   "cell_type": "code",
   "execution_count": 18,
   "id": "93d7c6d4",
   "metadata": {},
   "outputs": [],
   "source": [
    "import pandas as pd\n",
    "import numpy as np"
   ]
  },
  {
   "cell_type": "code",
   "execution_count": 2,
   "id": "56440546",
   "metadata": {},
   "outputs": [],
   "source": [
    "personInfo={\n",
    "    'registrationNo':['L1f16bscs0093','lf16bscs0094','l1f16bscs0095','l1f16bscs0043','l1f16bscs0045','l1f16bscs0048','l1f16bscs0098'],\n",
    "    'name':['m umer sohail khan','narmeen azhar','iqra kafayat','bilal khan','saqib','nauman','qadeer khan'],\n",
    "    'age':[27,25,24,24,25,26,29]\n",
    "}\n",
    "dfInfo=pd.DataFrame(personInfo)"
   ]
  },
  {
   "cell_type": "code",
   "execution_count": 3,
   "id": "c8a92d3e",
   "metadata": {},
   "outputs": [
    {
     "data": {
      "text/html": [
       "<div>\n",
       "<style scoped>\n",
       "    .dataframe tbody tr th:only-of-type {\n",
       "        vertical-align: middle;\n",
       "    }\n",
       "\n",
       "    .dataframe tbody tr th {\n",
       "        vertical-align: top;\n",
       "    }\n",
       "\n",
       "    .dataframe thead th {\n",
       "        text-align: right;\n",
       "    }\n",
       "</style>\n",
       "<table border=\"1\" class=\"dataframe\">\n",
       "  <thead>\n",
       "    <tr style=\"text-align: right;\">\n",
       "      <th></th>\n",
       "      <th>registrationNo</th>\n",
       "      <th>name</th>\n",
       "      <th>age</th>\n",
       "    </tr>\n",
       "  </thead>\n",
       "  <tbody>\n",
       "    <tr>\n",
       "      <th>0</th>\n",
       "      <td>L1f16bscs0093</td>\n",
       "      <td>m umer sohail khan</td>\n",
       "      <td>27</td>\n",
       "    </tr>\n",
       "    <tr>\n",
       "      <th>1</th>\n",
       "      <td>lf16bscs0094</td>\n",
       "      <td>narmeen azhar</td>\n",
       "      <td>25</td>\n",
       "    </tr>\n",
       "    <tr>\n",
       "      <th>2</th>\n",
       "      <td>l1f16bscs0095</td>\n",
       "      <td>iqra kafayat</td>\n",
       "      <td>24</td>\n",
       "    </tr>\n",
       "    <tr>\n",
       "      <th>3</th>\n",
       "      <td>l1f16bscs0043</td>\n",
       "      <td>bilal khan</td>\n",
       "      <td>24</td>\n",
       "    </tr>\n",
       "    <tr>\n",
       "      <th>4</th>\n",
       "      <td>l1f16bscs0045</td>\n",
       "      <td>saqib</td>\n",
       "      <td>25</td>\n",
       "    </tr>\n",
       "    <tr>\n",
       "      <th>5</th>\n",
       "      <td>l1f16bscs0048</td>\n",
       "      <td>nauman</td>\n",
       "      <td>26</td>\n",
       "    </tr>\n",
       "    <tr>\n",
       "      <th>6</th>\n",
       "      <td>l1f16bscs0098</td>\n",
       "      <td>qadeer khan</td>\n",
       "      <td>29</td>\n",
       "    </tr>\n",
       "  </tbody>\n",
       "</table>\n",
       "</div>"
      ],
      "text/plain": [
       "  registrationNo                name  age\n",
       "0  L1f16bscs0093  m umer sohail khan   27\n",
       "1   lf16bscs0094       narmeen azhar   25\n",
       "2  l1f16bscs0095        iqra kafayat   24\n",
       "3  l1f16bscs0043          bilal khan   24\n",
       "4  l1f16bscs0045               saqib   25\n",
       "5  l1f16bscs0048              nauman   26\n",
       "6  l1f16bscs0098         qadeer khan   29"
      ]
     },
     "execution_count": 3,
     "metadata": {},
     "output_type": "execute_result"
    }
   ],
   "source": [
    "dfInfo"
   ]
  },
  {
   "cell_type": "code",
   "execution_count": 4,
   "id": "4b4a9524",
   "metadata": {},
   "outputs": [
    {
     "data": {
      "text/plain": [
       "1    narmeen azhar\n",
       "2     iqra kafayat\n",
       "3       bilal khan\n",
       "4            saqib\n",
       "Name: name, dtype: object"
      ]
     },
     "execution_count": 4,
     "metadata": {},
     "output_type": "execute_result"
    }
   ],
   "source": [
    "filt=(dfInfo['age']==24) | (dfInfo['age']==25)\n",
    "dfInfo.loc[filt,'name']"
   ]
  },
  {
   "cell_type": "code",
   "execution_count": 5,
   "id": "3b230b55",
   "metadata": {},
   "outputs": [
    {
     "data": {
      "text/html": [
       "<div>\n",
       "<style scoped>\n",
       "    .dataframe tbody tr th:only-of-type {\n",
       "        vertical-align: middle;\n",
       "    }\n",
       "\n",
       "    .dataframe tbody tr th {\n",
       "        vertical-align: top;\n",
       "    }\n",
       "\n",
       "    .dataframe thead th {\n",
       "        text-align: right;\n",
       "    }\n",
       "</style>\n",
       "<table border=\"1\" class=\"dataframe\">\n",
       "  <thead>\n",
       "    <tr style=\"text-align: right;\">\n",
       "      <th></th>\n",
       "      <th>registrationNo</th>\n",
       "      <th>name</th>\n",
       "      <th>age</th>\n",
       "    </tr>\n",
       "  </thead>\n",
       "  <tbody>\n",
       "    <tr>\n",
       "      <th>1</th>\n",
       "      <td>lf16bscs0094</td>\n",
       "      <td>narmeen azhar</td>\n",
       "      <td>25</td>\n",
       "    </tr>\n",
       "    <tr>\n",
       "      <th>2</th>\n",
       "      <td>l1f16bscs0095</td>\n",
       "      <td>iqra kafayat</td>\n",
       "      <td>24</td>\n",
       "    </tr>\n",
       "    <tr>\n",
       "      <th>3</th>\n",
       "      <td>l1f16bscs0043</td>\n",
       "      <td>bilal khan</td>\n",
       "      <td>24</td>\n",
       "    </tr>\n",
       "    <tr>\n",
       "      <th>4</th>\n",
       "      <td>l1f16bscs0045</td>\n",
       "      <td>saqib</td>\n",
       "      <td>25</td>\n",
       "    </tr>\n",
       "  </tbody>\n",
       "</table>\n",
       "</div>"
      ],
      "text/plain": [
       "  registrationNo           name  age\n",
       "1   lf16bscs0094  narmeen azhar   25\n",
       "2  l1f16bscs0095   iqra kafayat   24\n",
       "3  l1f16bscs0043     bilal khan   24\n",
       "4  l1f16bscs0045          saqib   25"
      ]
     },
     "execution_count": 5,
     "metadata": {},
     "output_type": "execute_result"
    }
   ],
   "source": [
    "age=[24,25,25]\n",
    "filt=dfInfo['age'].isin(age)\n",
    "dfInfo.loc[filt]"
   ]
  },
  {
   "cell_type": "code",
   "execution_count": 6,
   "id": "b53fa6ea",
   "metadata": {},
   "outputs": [
    {
     "data": {
      "text/html": [
       "<div>\n",
       "<style scoped>\n",
       "    .dataframe tbody tr th:only-of-type {\n",
       "        vertical-align: middle;\n",
       "    }\n",
       "\n",
       "    .dataframe tbody tr th {\n",
       "        vertical-align: top;\n",
       "    }\n",
       "\n",
       "    .dataframe thead th {\n",
       "        text-align: right;\n",
       "    }\n",
       "</style>\n",
       "<table border=\"1\" class=\"dataframe\">\n",
       "  <thead>\n",
       "    <tr style=\"text-align: right;\">\n",
       "      <th></th>\n",
       "      <th>registrationNo</th>\n",
       "      <th>name</th>\n",
       "      <th>age</th>\n",
       "    </tr>\n",
       "  </thead>\n",
       "  <tbody>\n",
       "    <tr>\n",
       "      <th>0</th>\n",
       "      <td>L1f16bscs0093</td>\n",
       "      <td>m umer sohail khan</td>\n",
       "      <td>27</td>\n",
       "    </tr>\n",
       "    <tr>\n",
       "      <th>3</th>\n",
       "      <td>l1f16bscs0043</td>\n",
       "      <td>bilal khan</td>\n",
       "      <td>24</td>\n",
       "    </tr>\n",
       "    <tr>\n",
       "      <th>6</th>\n",
       "      <td>l1f16bscs0098</td>\n",
       "      <td>qadeer khan</td>\n",
       "      <td>29</td>\n",
       "    </tr>\n",
       "  </tbody>\n",
       "</table>\n",
       "</div>"
      ],
      "text/plain": [
       "  registrationNo                name  age\n",
       "0  L1f16bscs0093  m umer sohail khan   27\n",
       "3  l1f16bscs0043          bilal khan   24\n",
       "6  l1f16bscs0098         qadeer khan   29"
      ]
     },
     "execution_count": 6,
     "metadata": {},
     "output_type": "execute_result"
    }
   ],
   "source": [
    "filt =dfInfo['name'].str.contains('khan')\n",
    "dfInfo.loc[filt]"
   ]
  },
  {
   "cell_type": "code",
   "execution_count": 7,
   "id": "13f479c8",
   "metadata": {},
   "outputs": [],
   "source": [
    "dfInfo.columns=['RegistrationNo','FullName','Age']"
   ]
  },
  {
   "cell_type": "code",
   "execution_count": 8,
   "id": "d92e38ae",
   "metadata": {},
   "outputs": [
    {
     "data": {
      "text/plain": [
       "Index(['RegistrationNo', 'FullName', 'Age'], dtype='object')"
      ]
     },
     "execution_count": 8,
     "metadata": {},
     "output_type": "execute_result"
    }
   ],
   "source": [
    "dfInfo.columns"
   ]
  },
  {
   "cell_type": "code",
   "execution_count": 9,
   "id": "6bad6791",
   "metadata": {},
   "outputs": [],
   "source": [
    "dfInfo.columns=[x.capitalize() for x in dfInfo.columns]\n",
    "dfInfo.columns=dfInfo.columns.str.replace('Registrationno','RegistrationNo')\n",
    "dfInfo.rename(columns={'Fullname':'FullName'},inplace=True)\n"
   ]
  },
  {
   "cell_type": "code",
   "execution_count": 10,
   "id": "ae0707a7",
   "metadata": {},
   "outputs": [],
   "source": [
    "dfInfo['FullName']=dfInfo['FullName'].str.title()\n",
    "dfInfo['RegistrationNo']=dfInfo['RegistrationNo'].str.upper()"
   ]
  },
  {
   "cell_type": "code",
   "execution_count": 11,
   "id": "dc388934",
   "metadata": {},
   "outputs": [],
   "source": [
    "dfInfo.loc[1,'RegistrationNo']='L1F16BSCS0094'"
   ]
  },
  {
   "cell_type": "code",
   "execution_count": 12,
   "id": "3070b0b7",
   "metadata": {},
   "outputs": [],
   "source": [
    "def editName(FullName):\n",
    "    if 'Khan' in FullName:\n",
    "        return FullName.replace('Khan','Pathan')\n",
    "    else:\n",
    "        return FullName\n",
    "dfInfo['FullName']= dfInfo['FullName'].apply(editName)       "
   ]
  },
  {
   "cell_type": "code",
   "execution_count": 13,
   "id": "e40a0232",
   "metadata": {},
   "outputs": [
    {
     "data": {
      "text/plain": [
       "7"
      ]
     },
     "execution_count": 13,
     "metadata": {},
     "output_type": "execute_result"
    }
   ],
   "source": [
    "dfInfo.apply(len)\n",
    "len(dfInfo)"
   ]
  },
  {
   "cell_type": "code",
   "execution_count": 14,
   "id": "36c9b160",
   "metadata": {},
   "outputs": [],
   "source": [
    "# dfInfo.applymap(len)\n",
    "# dfInfo.applymap(str.lower)\n",
    "# dfInfo['FullName'].map({'Saqib':'saqib bhatti'})\n",
    "dfInfo['FullName']=dfInfo['FullName'].replace({'Saqib':'saqib bhatti'})\n"
   ]
  },
  {
   "cell_type": "code",
   "execution_count": 15,
   "id": "0f5fdc79",
   "metadata": {},
   "outputs": [],
   "source": [
    "# 29 min\n",
    "# apply\n",
    "# applymap\n",
    "# map"
   ]
  },
  {
   "cell_type": "code",
   "execution_count": 16,
   "id": "81336eb7",
   "metadata": {},
   "outputs": [
    {
     "data": {
      "text/html": [
       "<div>\n",
       "<style scoped>\n",
       "    .dataframe tbody tr th:only-of-type {\n",
       "        vertical-align: middle;\n",
       "    }\n",
       "\n",
       "    .dataframe tbody tr th {\n",
       "        vertical-align: top;\n",
       "    }\n",
       "\n",
       "    .dataframe thead th {\n",
       "        text-align: right;\n",
       "    }\n",
       "</style>\n",
       "<table border=\"1\" class=\"dataframe\">\n",
       "  <thead>\n",
       "    <tr style=\"text-align: right;\">\n",
       "      <th></th>\n",
       "      <th>RegistrationNo</th>\n",
       "      <th>FullName</th>\n",
       "      <th>Age</th>\n",
       "    </tr>\n",
       "  </thead>\n",
       "  <tbody>\n",
       "    <tr>\n",
       "      <th>0</th>\n",
       "      <td>L1F16BSCS0093</td>\n",
       "      <td>M Umer Sohail Pathan</td>\n",
       "      <td>27</td>\n",
       "    </tr>\n",
       "    <tr>\n",
       "      <th>1</th>\n",
       "      <td>L1F16BSCS0094</td>\n",
       "      <td>Narmeen Azhar</td>\n",
       "      <td>25</td>\n",
       "    </tr>\n",
       "    <tr>\n",
       "      <th>2</th>\n",
       "      <td>L1F16BSCS0095</td>\n",
       "      <td>Iqra Kafayat</td>\n",
       "      <td>24</td>\n",
       "    </tr>\n",
       "    <tr>\n",
       "      <th>3</th>\n",
       "      <td>L1F16BSCS0043</td>\n",
       "      <td>Bilal Pathan</td>\n",
       "      <td>24</td>\n",
       "    </tr>\n",
       "    <tr>\n",
       "      <th>4</th>\n",
       "      <td>L1F16BSCS0045</td>\n",
       "      <td>saqib bhatti</td>\n",
       "      <td>25</td>\n",
       "    </tr>\n",
       "    <tr>\n",
       "      <th>5</th>\n",
       "      <td>L1F16BSCS0048</td>\n",
       "      <td>Nauman</td>\n",
       "      <td>26</td>\n",
       "    </tr>\n",
       "    <tr>\n",
       "      <th>6</th>\n",
       "      <td>L1F16BSCS0098</td>\n",
       "      <td>Qadeer Pathan</td>\n",
       "      <td>29</td>\n",
       "    </tr>\n",
       "  </tbody>\n",
       "</table>\n",
       "</div>"
      ],
      "text/plain": [
       "  RegistrationNo              FullName  Age\n",
       "0  L1F16BSCS0093  M Umer Sohail Pathan   27\n",
       "1  L1F16BSCS0094         Narmeen Azhar   25\n",
       "2  L1F16BSCS0095          Iqra Kafayat   24\n",
       "3  L1F16BSCS0043          Bilal Pathan   24\n",
       "4  L1F16BSCS0045          saqib bhatti   25\n",
       "5  L1F16BSCS0048                Nauman   26\n",
       "6  L1F16BSCS0098         Qadeer Pathan   29"
      ]
     },
     "execution_count": 16,
     "metadata": {},
     "output_type": "execute_result"
    }
   ],
   "source": [
    "#sorting\n",
    "# dfInfo.sort_values(by='FullName',ascending=False)\n",
    "# dfInfo.sort_values(by=['FullName','RegistrationNo'],ascending=False)\n",
    "dfInfo.sort_index()\n"
   ]
  },
  {
   "cell_type": "code",
   "execution_count": 25,
   "id": "538fc151",
   "metadata": {},
   "outputs": [],
   "source": [
    "people={\n",
    "    'first' :['corey','jane','john','chris',np.nan,None,'NA'],\n",
    "    'last':['schafer','doe','doe','schafer',np.nan,np.nan,'Missing'],\n",
    "    'email':['coreyschafer@gmail.com','janedoe@gmail.com','johndoe@gmail.com',None,np.nan,'anonymous@gmail.com',np.nan],\n",
    "    'age':['33','55','63','36',None,None,'Missing']\n",
    "}\n",
    "\n",
    "peopleDf=pd.DataFrame(people)"
   ]
  },
  {
   "cell_type": "code",
   "execution_count": 34,
   "id": "af4d2348",
   "metadata": {},
   "outputs": [
    {
     "data": {
      "text/html": [
       "<div>\n",
       "<style scoped>\n",
       "    .dataframe tbody tr th:only-of-type {\n",
       "        vertical-align: middle;\n",
       "    }\n",
       "\n",
       "    .dataframe tbody tr th {\n",
       "        vertical-align: top;\n",
       "    }\n",
       "\n",
       "    .dataframe thead th {\n",
       "        text-align: right;\n",
       "    }\n",
       "</style>\n",
       "<table border=\"1\" class=\"dataframe\">\n",
       "  <thead>\n",
       "    <tr style=\"text-align: right;\">\n",
       "      <th></th>\n",
       "      <th>first</th>\n",
       "      <th>last</th>\n",
       "      <th>email</th>\n",
       "      <th>age</th>\n",
       "    </tr>\n",
       "  </thead>\n",
       "  <tbody>\n",
       "    <tr>\n",
       "      <th>0</th>\n",
       "      <td>corey</td>\n",
       "      <td>schafer</td>\n",
       "      <td>coreyschafer@gmail.com</td>\n",
       "      <td>33</td>\n",
       "    </tr>\n",
       "    <tr>\n",
       "      <th>1</th>\n",
       "      <td>jane</td>\n",
       "      <td>doe</td>\n",
       "      <td>janedoe@gmail.com</td>\n",
       "      <td>55</td>\n",
       "    </tr>\n",
       "    <tr>\n",
       "      <th>2</th>\n",
       "      <td>john</td>\n",
       "      <td>doe</td>\n",
       "      <td>johndoe@gmail.com</td>\n",
       "      <td>63</td>\n",
       "    </tr>\n",
       "    <tr>\n",
       "      <th>3</th>\n",
       "      <td>chris</td>\n",
       "      <td>schafer</td>\n",
       "      <td>None</td>\n",
       "      <td>36</td>\n",
       "    </tr>\n",
       "    <tr>\n",
       "      <th>4</th>\n",
       "      <td>NaN</td>\n",
       "      <td>NaN</td>\n",
       "      <td>NaN</td>\n",
       "      <td>None</td>\n",
       "    </tr>\n",
       "    <tr>\n",
       "      <th>5</th>\n",
       "      <td>None</td>\n",
       "      <td>NaN</td>\n",
       "      <td>anonymous@gmail.com</td>\n",
       "      <td>None</td>\n",
       "    </tr>\n",
       "    <tr>\n",
       "      <th>6</th>\n",
       "      <td>NA</td>\n",
       "      <td>NaN</td>\n",
       "      <td>NaN</td>\n",
       "      <td>NaN</td>\n",
       "    </tr>\n",
       "  </tbody>\n",
       "</table>\n",
       "</div>"
      ],
      "text/plain": [
       "   first     last                   email   age\n",
       "0  corey  schafer  coreyschafer@gmail.com    33\n",
       "1   jane      doe       janedoe@gmail.com    55\n",
       "2   john      doe       johndoe@gmail.com    63\n",
       "3  chris  schafer                    None    36\n",
       "4    NaN      NaN                     NaN  None\n",
       "5   None      NaN     anonymous@gmail.com  None\n",
       "6     NA      NaN                     NaN   NaN"
      ]
     },
     "execution_count": 34,
     "metadata": {},
     "output_type": "execute_result"
    }
   ],
   "source": [
    "peopleDf"
   ]
  },
  {
   "cell_type": "code",
   "execution_count": 36,
   "id": "04f80e1e",
   "metadata": {},
   "outputs": [
    {
     "data": {
      "text/html": [
       "<div>\n",
       "<style scoped>\n",
       "    .dataframe tbody tr th:only-of-type {\n",
       "        vertical-align: middle;\n",
       "    }\n",
       "\n",
       "    .dataframe tbody tr th {\n",
       "        vertical-align: top;\n",
       "    }\n",
       "\n",
       "    .dataframe thead th {\n",
       "        text-align: right;\n",
       "    }\n",
       "</style>\n",
       "<table border=\"1\" class=\"dataframe\">\n",
       "  <thead>\n",
       "    <tr style=\"text-align: right;\">\n",
       "      <th></th>\n",
       "      <th>first</th>\n",
       "      <th>last</th>\n",
       "      <th>email</th>\n",
       "      <th>age</th>\n",
       "    </tr>\n",
       "  </thead>\n",
       "  <tbody>\n",
       "    <tr>\n",
       "      <th>0</th>\n",
       "      <td>corey</td>\n",
       "      <td>schafer</td>\n",
       "      <td>coreyschafer@gmail.com</td>\n",
       "      <td>33</td>\n",
       "    </tr>\n",
       "    <tr>\n",
       "      <th>1</th>\n",
       "      <td>jane</td>\n",
       "      <td>doe</td>\n",
       "      <td>janedoe@gmail.com</td>\n",
       "      <td>55</td>\n",
       "    </tr>\n",
       "    <tr>\n",
       "      <th>2</th>\n",
       "      <td>john</td>\n",
       "      <td>doe</td>\n",
       "      <td>johndoe@gmail.com</td>\n",
       "      <td>63</td>\n",
       "    </tr>\n",
       "    <tr>\n",
       "      <th>3</th>\n",
       "      <td>chris</td>\n",
       "      <td>schafer</td>\n",
       "      <td>0</td>\n",
       "      <td>36</td>\n",
       "    </tr>\n",
       "    <tr>\n",
       "      <th>4</th>\n",
       "      <td>0</td>\n",
       "      <td>0</td>\n",
       "      <td>0</td>\n",
       "      <td>0</td>\n",
       "    </tr>\n",
       "    <tr>\n",
       "      <th>5</th>\n",
       "      <td>0</td>\n",
       "      <td>0</td>\n",
       "      <td>anonymous@gmail.com</td>\n",
       "      <td>0</td>\n",
       "    </tr>\n",
       "    <tr>\n",
       "      <th>6</th>\n",
       "      <td>NA</td>\n",
       "      <td>0</td>\n",
       "      <td>0</td>\n",
       "      <td>0</td>\n",
       "    </tr>\n",
       "  </tbody>\n",
       "</table>\n",
       "</div>"
      ],
      "text/plain": [
       "   first     last                   email age\n",
       "0  corey  schafer  coreyschafer@gmail.com  33\n",
       "1   jane      doe       janedoe@gmail.com  55\n",
       "2   john      doe       johndoe@gmail.com  63\n",
       "3  chris  schafer                       0  36\n",
       "4      0        0                       0   0\n",
       "5      0        0     anonymous@gmail.com   0\n",
       "6     NA        0                       0   0"
      ]
     },
     "execution_count": 36,
     "metadata": {},
     "output_type": "execute_result"
    }
   ],
   "source": [
    "# peopleDf.replace('Missing',np.nan,inplace=True)\n",
    "# peopleDf.dropna()\n",
    "# peopleDf.dropna(how='all')\n",
    "# peopleDf.dropna(how='any',subset=['email'])\n",
    "peopleDf.fillna(0)"
   ]
  },
  {
   "cell_type": "code",
   "execution_count": 37,
   "id": "0745114e",
   "metadata": {},
   "outputs": [
    {
     "data": {
      "text/plain": [
       "float"
      ]
     },
     "execution_count": 37,
     "metadata": {},
     "output_type": "execute_result"
    }
   ],
   "source": [
    "type(np.nan)"
   ]
  },
  {
   "cell_type": "code",
   "execution_count": 40,
   "id": "2c2700d1",
   "metadata": {},
   "outputs": [
    {
     "data": {
      "text/plain": [
       "first    object\n",
       "last     object\n",
       "email    object\n",
       "age      object\n",
       "dtype: object"
      ]
     },
     "execution_count": 40,
     "metadata": {},
     "output_type": "execute_result"
    }
   ],
   "source": [
    "peopleDf.dtypes"
   ]
  },
  {
   "cell_type": "code",
   "execution_count": null,
   "id": "e6c5d111",
   "metadata": {},
   "outputs": [],
   "source": []
  }
 ],
 "metadata": {
  "kernelspec": {
   "display_name": "Python 3 (ipykernel)",
   "language": "python",
   "name": "python3"
  },
  "language_info": {
   "codemirror_mode": {
    "name": "ipython",
    "version": 3
   },
   "file_extension": ".py",
   "mimetype": "text/x-python",
   "name": "python",
   "nbconvert_exporter": "python",
   "pygments_lexer": "ipython3",
   "version": "3.9.1"
  }
 },
 "nbformat": 4,
 "nbformat_minor": 5
}
