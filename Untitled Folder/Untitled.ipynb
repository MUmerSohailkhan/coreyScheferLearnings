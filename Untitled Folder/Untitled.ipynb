{
 "cells": [
  {
   "cell_type": "code",
   "execution_count": 4,
   "id": "f07d5bd7",
   "metadata": {},
   "outputs": [],
   "source": [
    "import pandas as pd\n",
    "surveyDf=pd.read_csv('survey_results_public.csv')\n"
   ]
  },
  {
   "cell_type": "code",
   "execution_count": 6,
   "id": "39c3b70b",
   "metadata": {},
   "outputs": [],
   "source": [
    "surveySchemaDf=pd.read_csv('survey_results_schema.csv')"
   ]
  },
  {
   "cell_type": "code",
   "execution_count": 19,
   "id": "e226d622",
   "metadata": {},
   "outputs": [
    {
     "data": {
      "text/plain": [
       "pandas.core.series.Series"
      ]
     },
     "execution_count": 19,
     "metadata": {},
     "output_type": "execute_result"
    }
   ],
   "source": [
    "# a=surveyDf.shape\n",
    "# a=surveyDf.columns\n",
    "a=surveyDf.dtypes\n",
    "type(a)"
   ]
  },
  {
   "cell_type": "code",
   "execution_count": 20,
   "id": "1ae03cdb",
   "metadata": {},
   "outputs": [],
   "source": [
    "a=['a',1,2,3,45,'ábc']\n",
    "sr=pd.Series(a)"
   ]
  },
  {
   "cell_type": "code",
   "execution_count": 23,
   "id": "9ed4ac91",
   "metadata": {},
   "outputs": [
    {
     "data": {
      "text/plain": [
       "dtype('O')"
      ]
     },
     "execution_count": 23,
     "metadata": {},
     "output_type": "execute_result"
    }
   ],
   "source": [
    "sr.dtypes"
   ]
  },
  {
   "cell_type": "code",
   "execution_count": 49,
   "id": "6218cbf9",
   "metadata": {},
   "outputs": [],
   "source": [
    "personInfo={\n",
    "    'name':['umer','sana','asif'],\n",
    "    'age':[25,26,27],\n",
    "    'profession':['computer sciencetist','pharmacist','medical rap'],\n",
    "    'dob':['1996-08-02 12:00:00.0000000011','2018-10-21 12:00:00.0000000011','2019-10-25 12:00:00.0000000011']\n",
    "    \n",
    "}\n",
    "personDf=pd.DataFrame(personInfo)\n",
    "personDf['dob']=pd.to_datetime(personDf['dob'],format='%Y-%m-%d %H:%M:%S.%f')"
   ]
  },
  {
   "cell_type": "code",
   "execution_count": 46,
   "id": "eb49f92b",
   "metadata": {},
   "outputs": [
    {
     "data": {
      "text/plain": [
       "name                  object\n",
       "age                    int64\n",
       "profession            object\n",
       "dob           datetime64[ns]\n",
       "dtype: object"
      ]
     },
     "execution_count": 46,
     "metadata": {},
     "output_type": "execute_result"
    }
   ],
   "source": [
    "personDf.dtypes"
   ]
  },
  {
   "cell_type": "code",
   "execution_count": 50,
   "id": "7e55a2c3",
   "metadata": {},
   "outputs": [],
   "source": [
    "personDf['days']=personDf['dob'].dt.day_name()"
   ]
  },
  {
   "cell_type": "code",
   "execution_count": 51,
   "id": "ca4a75b2",
   "metadata": {},
   "outputs": [
    {
     "data": {
      "text/html": [
       "<div>\n",
       "<style scoped>\n",
       "    .dataframe tbody tr th:only-of-type {\n",
       "        vertical-align: middle;\n",
       "    }\n",
       "\n",
       "    .dataframe tbody tr th {\n",
       "        vertical-align: top;\n",
       "    }\n",
       "\n",
       "    .dataframe thead th {\n",
       "        text-align: right;\n",
       "    }\n",
       "</style>\n",
       "<table border=\"1\" class=\"dataframe\">\n",
       "  <thead>\n",
       "    <tr style=\"text-align: right;\">\n",
       "      <th></th>\n",
       "      <th>name</th>\n",
       "      <th>age</th>\n",
       "      <th>profession</th>\n",
       "      <th>dob</th>\n",
       "      <th>days</th>\n",
       "    </tr>\n",
       "  </thead>\n",
       "  <tbody>\n",
       "    <tr>\n",
       "      <th>0</th>\n",
       "      <td>umer</td>\n",
       "      <td>25</td>\n",
       "      <td>computer sciencetist</td>\n",
       "      <td>1996-08-02 12:00:00.000000001</td>\n",
       "      <td>Friday</td>\n",
       "    </tr>\n",
       "    <tr>\n",
       "      <th>1</th>\n",
       "      <td>sana</td>\n",
       "      <td>26</td>\n",
       "      <td>pharmacist</td>\n",
       "      <td>2018-10-21 12:00:00.000000001</td>\n",
       "      <td>Sunday</td>\n",
       "    </tr>\n",
       "    <tr>\n",
       "      <th>2</th>\n",
       "      <td>asif</td>\n",
       "      <td>27</td>\n",
       "      <td>medical rap</td>\n",
       "      <td>2019-10-25 12:00:00.000000001</td>\n",
       "      <td>Friday</td>\n",
       "    </tr>\n",
       "  </tbody>\n",
       "</table>\n",
       "</div>"
      ],
      "text/plain": [
       "   name  age            profession                           dob    days\n",
       "0  umer   25  computer sciencetist 1996-08-02 12:00:00.000000001  Friday\n",
       "1  sana   26            pharmacist 2018-10-21 12:00:00.000000001  Sunday\n",
       "2  asif   27           medical rap 2019-10-25 12:00:00.000000001  Friday"
      ]
     },
     "execution_count": 51,
     "metadata": {},
     "output_type": "execute_result"
    }
   ],
   "source": [
    "personDf"
   ]
  },
  {
   "cell_type": "code",
   "execution_count": null,
   "id": "7caeaf49",
   "metadata": {},
   "outputs": [],
   "source": []
  }
 ],
 "metadata": {
  "kernelspec": {
   "display_name": "Python 3 (ipykernel)",
   "language": "python",
   "name": "python3"
  },
  "language_info": {
   "codemirror_mode": {
    "name": "ipython",
    "version": 3
   },
   "file_extension": ".py",
   "mimetype": "text/x-python",
   "name": "python",
   "nbconvert_exporter": "python",
   "pygments_lexer": "ipython3",
   "version": "3.9.1"
  }
 },
 "nbformat": 4,
 "nbformat_minor": 5
}
