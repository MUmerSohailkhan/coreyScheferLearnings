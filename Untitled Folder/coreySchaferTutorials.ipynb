{
 "cells": [
  {
   "cell_type": "markdown",
   "id": "0acd75bb-733d-486e-a5ef-031166e6f840",
   "metadata": {},
   "source": [
    "# 1: getting started with data analysis-installation and loading"
   ]
  },
  {
   "cell_type": "code",
   "execution_count": 1,
   "id": "2f73a5d0-8b7f-493a-a433-44bb91c97b7f",
   "metadata": {},
   "outputs": [],
   "source": [
    "import pandas as pd\n",
    "surveyDf=pd.read_csv('data/survey_results_public.csv')\n",
    "schemaDf=pd.read_csv('data/survey_results_schema.csv')\n",
    "# surveyDf.shape  #return row and column of df in tupple\n",
    "# surveyDf.info() #it will display all column info including column name, datatype, and nonnull rows info\n",
    "# surveyDf.head(40)  #it will return a data frame of the first 40 rows\n",
    "# surveyDf.tail(40)  #it will return a data frame of the last 40 rows\n",
    "# pd.set_option('display.max_columns',85)   #it will set the display of columns to 85\n",
    "# pd.set_option('display.max_rows',85)     #it will set the display of rows to 85"
   ]
  },
  {
   "cell_type": "code",
   "execution_count": 2,
   "id": "0323937c-4a46-4b4c-80bb-e40921ef4909",
   "metadata": {},
   "outputs": [],
   "source": [
    "# surveyDf\n",
    "# schemaDf"
   ]
  },
  {
   "cell_type": "markdown",
   "id": "677a377d-ef9e-4a49-8571-6033ddadd6a5",
   "metadata": {},
   "source": [
    "# 2: dataframe and series basic:selecting rows and columns 2"
   ]
  },
  {
   "cell_type": "code",
   "execution_count": 3,
   "id": "00e6574c-d9bc-4c92-87f9-5bd0ef487c84",
   "metadata": {},
   "outputs": [
    {
     "data": {
      "text/plain": [
       "0    Yes\n",
       "1     No\n",
       "2    Yes\n",
       "3     No\n",
       "4    Yes\n",
       "5    Yes\n",
       "6     No\n",
       "7    Yes\n",
       "Name: Hobbyist, dtype: object"
      ]
     },
     "execution_count": 3,
     "metadata": {},
     "output_type": "execute_result"
    }
   ],
   "source": [
    "people={\n",
    "    'name':['umer','asif','sana'],\n",
    "    'email':['umermr0089@gmail.com','asif@gmail.com','sana@gmail.com'],\n",
    "    'age':[27,32,29]\n",
    "}\n",
    "dfPeople=pd.DataFrame(people)\n",
    "dfPeople\n",
    "dfPeople['name']       #it will return column with a series object\n",
    "dfPeople[['name','email']]     #it will return multiple specific columns\n",
    "dfPeople.columns #return columns name \n",
    "dfPeople.iloc[[0,2]]  #it will return dataframe having row 0,2\n",
    "dfPeople.iloc[[0,2],[0,1]] #it will return dataframe having row 0,2 and column 0,1\n",
    "dfPeople.loc[[0,2],['age','email']] \n",
    "surveyDf.loc[0:7 ,'Hobbyist']  #it will returnt the slice of dataframe from row 0 to row 7 with only column Hobbyist"
   ]
  },
  {
   "cell_type": "code",
   "execution_count": 4,
   "id": "e0780e33-fe3d-4315-b14f-08ede9c91d7d",
   "metadata": {},
   "outputs": [
    {
     "data": {
      "text/plain": [
       "0    Yes\n",
       "1     No\n",
       "2    Yes\n",
       "3     No\n",
       "4    Yes\n",
       "5    Yes\n",
       "6     No\n",
       "7    Yes\n",
       "Name: Hobbyist, dtype: object"
      ]
     },
     "execution_count": 4,
     "metadata": {},
     "output_type": "execute_result"
    }
   ],
   "source": [
    "dfPeople['name']       #it will return column with a series object\n",
    "dfPeople[['name','email']]     #it will return multiple specific columns\n",
    "dfPeople.columns #return columns name\n",
    "dfPeople.iloc[[0,2]]  #it will return dataframe having row 0,2\n",
    "dfPeople.iloc[[0,2],[0,1]] #it will return dataframe having row 0,2 and column 0,1\n",
    "dfPeople.loc[[0,2],['age','email']]\n",
    "\n",
    "surveyDf.loc[0:7 ,'Hobbyist']  #it will returnt the slice of dataframe from row 0 to row 7 with only column Hobbyist"
   ]
  },
  {
   "cell_type": "markdown",
   "id": "e2c468a3",
   "metadata": {},
   "source": [
    "# 3:how to set reset and use index"
   ]
  },
  {
   "cell_type": "code",
   "execution_count": 5,
   "id": "287eb7a2",
   "metadata": {},
   "outputs": [
    {
     "data": {
      "text/html": [
       "<div>\n",
       "<style scoped>\n",
       "    .dataframe tbody tr th:only-of-type {\n",
       "        vertical-align: middle;\n",
       "    }\n",
       "\n",
       "    .dataframe tbody tr th {\n",
       "        vertical-align: top;\n",
       "    }\n",
       "\n",
       "    .dataframe thead th {\n",
       "        text-align: right;\n",
       "    }\n",
       "</style>\n",
       "<table border=\"1\" class=\"dataframe\">\n",
       "  <thead>\n",
       "    <tr style=\"text-align: right;\">\n",
       "      <th></th>\n",
       "      <th>name</th>\n",
       "      <th>email</th>\n",
       "      <th>age</th>\n",
       "    </tr>\n",
       "  </thead>\n",
       "  <tbody>\n",
       "    <tr>\n",
       "      <th>0</th>\n",
       "      <td>umer</td>\n",
       "      <td>umermr0089@gmail.com</td>\n",
       "      <td>27</td>\n",
       "    </tr>\n",
       "    <tr>\n",
       "      <th>1</th>\n",
       "      <td>asif</td>\n",
       "      <td>asif@gmail.com</td>\n",
       "      <td>32</td>\n",
       "    </tr>\n",
       "    <tr>\n",
       "      <th>2</th>\n",
       "      <td>sana</td>\n",
       "      <td>sana@gmail.com</td>\n",
       "      <td>29</td>\n",
       "    </tr>\n",
       "  </tbody>\n",
       "</table>\n",
       "</div>"
      ],
      "text/plain": [
       "   name                 email  age\n",
       "0  umer  umermr0089@gmail.com   27\n",
       "1  asif        asif@gmail.com   32\n",
       "2  sana        sana@gmail.com   29"
      ]
     },
     "execution_count": 5,
     "metadata": {},
     "output_type": "execute_result"
    }
   ],
   "source": [
    "# dfPeople.set_index('email')\n",
    "# dfPeople.set_index('email',inplace=True)\n",
    "# dfPeople.reset_index(inplace=True)\n",
    "dfPeople\n",
    "# dfPeople.reset_index(inplace=True)\n",
    "# dfPeople.sort_index(inplace=True)\n"
   ]
  },
  {
   "cell_type": "markdown",
   "id": "3583e844",
   "metadata": {},
   "source": [
    "# 4. Filter:using condition to filter row and column"
   ]
  },
  {
   "cell_type": "code",
   "execution_count": 6,
   "id": "9f1cdb31",
   "metadata": {
    "scrolled": true
   },
   "outputs": [],
   "source": [
    "# filt=(surveyDf['Country']=='Pakistan') & (surveyDf['Employment'].str.contains('Employed')) & (surveyDf['Hobbyist']=='Yes')\n",
    "# filt2=(surveyDf['Country']=='Poland')& (surveyDf['Employment'].str.contains('Employed'))\n",
    "# age=[24.0,25.0,26.0]\n",
    "# filt3=surveyDf['Age'].isin(age)\n",
    "# surveyDf.loc[filt3]\n",
    "\n",
    "# filt =dfInfo['name'].str.contains('khan')\n",
    "# dfInfo.loc[filt]"
   ]
  },
  {
   "cell_type": "markdown",
   "id": "bd01787a",
   "metadata": {},
   "source": [
    "# 5. updating rows and columns:modifying data within dataframe"
   ]
  },
  {
   "cell_type": "code",
   "execution_count": 7,
   "id": "283054a6",
   "metadata": {},
   "outputs": [
    {
     "ename": "NameError",
     "evalue": "name 'dfInfo' is not defined",
     "output_type": "error",
     "traceback": [
      "\u001b[1;31m---------------------------------------------------------------------------\u001b[0m",
      "\u001b[1;31mNameError\u001b[0m                                 Traceback (most recent call last)",
      "Cell \u001b[1;32mIn [7], line 4\u001b[0m\n\u001b[0;32m      1\u001b[0m \u001b[38;5;66;03m# surveyDf.rename(columns={'ConvertedComp':'salaryUSD'}, inplace=True)\u001b[39;00m\n\u001b[0;32m      2\u001b[0m surveyDf\u001b[38;5;241m.\u001b[39mcolumns\u001b[38;5;241m=\u001b[39m[x\u001b[38;5;241m.\u001b[39mcapitalize() \u001b[38;5;28;01mfor\u001b[39;00m x \u001b[38;5;129;01min\u001b[39;00m surveyDf\u001b[38;5;241m.\u001b[39mcolumns]\n\u001b[1;32m----> 4\u001b[0m dfInfo\u001b[38;5;241m.\u001b[39mcolumns\u001b[38;5;241m=\u001b[39mdfInfo\u001b[38;5;241m.\u001b[39mcolumns\u001b[38;5;241m.\u001b[39mstr\u001b[38;5;241m.\u001b[39mreplace(\u001b[38;5;124m'\u001b[39m\u001b[38;5;124mRegistrationno\u001b[39m\u001b[38;5;124m'\u001b[39m,\u001b[38;5;124m'\u001b[39m\u001b[38;5;124mRegistrationNo\u001b[39m\u001b[38;5;124m'\u001b[39m)\n\u001b[0;32m      6\u001b[0m surveyDf\u001b[38;5;241m.\u001b[39mcolumns\n",
      "\u001b[1;31mNameError\u001b[0m: name 'dfInfo' is not defined"
     ]
    }
   ],
   "source": [
    "# surveyDf.rename(columns={'ConvertedComp':'salaryUSD'}, inplace=True)\n",
    "surveyDf.columns=[x.capitalize() for x in surveyDf.columns]\n",
    "\n",
    "dfInfo.columns=dfInfo.columns.str.replace('Registrationno','RegistrationNo')\n",
    "\n",
    "surveyDf.columns"
   ]
  },
  {
   "cell_type": "markdown",
   "id": "47387d41",
   "metadata": {},
   "source": [
    "# 7:Sorting Data"
   ]
  },
  {
   "cell_type": "code",
   "execution_count": null,
   "id": "c4236ec4",
   "metadata": {
    "scrolled": true
   },
   "outputs": [],
   "source": [
    "# surveyDf[['Country','ConvertedComp']].sort_values(by=['Country','ConvertedComp'],ascending=[True,False]).head(50)\n",
    "\n",
    "# surveyDf.nlargest(10,'ConvertedComp')\n",
    "# surveyDf.nsmallest(10,'ConvertedComp')"
   ]
  },
  {
   "cell_type": "markdown",
   "id": "389d0e8a",
   "metadata": {},
   "source": [
    "# 8:Grouping and Aggregating the Data"
   ]
  },
  {
   "cell_type": "code",
   "execution_count": null,
   "id": "d3c896ac",
   "metadata": {},
   "outputs": [],
   "source": [
    "# surveyDf['ConvertedComp'].median()\n",
    "# surveyDf.median()\n",
    "# surveyDf.describe()\n",
    "# surveyDf['ConvertedComp'].count()\n",
    "# surveyDf['Hobbyist'].value_counts()\n",
    "# surveyDf['SocialMedia'].value_counts()\n",
    "\n",
    "\n",
    "#1)splitting objects upon on some combination\n",
    "#2)Applying the function\n",
    "#3)conbining those result\n",
    "\n",
    "country_grp=surveyDf.groupby('Country')\n",
    "\n"
   ]
  },
  {
   "cell_type": "code",
   "execution_count": null,
   "id": "b9352dd1",
   "metadata": {},
   "outputs": [],
   "source": [
    "# country_grp.get_group('Pakistan')\n",
    "# country_grp['SocialMedia'].value_counts().loc[['Pakistan','India']]\n",
    "# country_grp['ConvertedComp'].mean()\n",
    "# country_grp['ConvertedComp'].agg(['mean','median'])\n",
    "\n",
    "\n",
    "# filt=surveyDf['LanguageWorkedWith'].str.contains('Python')\n",
    "# surveyDf.loc[filt]\n",
    "\n",
    "\n",
    "#mintue =35"
   ]
  },
  {
   "cell_type": "markdown",
   "id": "11e9e8a1",
   "metadata": {},
   "source": [
    "# 9:Cleaning Data "
   ]
  },
  {
   "cell_type": "code",
   "execution_count": null,
   "id": "4fed471f",
   "metadata": {},
   "outputs": [],
   "source": [
    "# peopleDf.replace('Missing',np.nan,inplace=True)\n",
    "# peopleDf.dropna()\n",
    "# peopleDf.dropna(how='all')\n",
    "# peopleDf.dropna(how='any',subset=['email'])\n",
    "peopleDf.fillna(0)\n",
    "# surveyDf['YearsCode'].head(20)\n",
    "# surveyDf.dtypes.head(30)\n",
    "surveyDf['YearsCode'].unique()\n",
    "# surveyDf['YearsCode']=surveyDf['YearsCode'].astype(float)\n",
    "\n",
    "# surveyDf['YearsCode'].replace('More than 50 years',51,inplace=True)\n",
    "# surveyDf['YearsCode'].replace('Less than 1 year',0,inplace=True)"
   ]
  },
  {
   "cell_type": "markdown",
   "id": "f3e17a7e",
   "metadata": {},
   "source": [
    "# 10: working with date time "
   ]
  },
  {
   "cell_type": "code",
   "execution_count": 10,
   "id": "3204c256",
   "metadata": {},
   "outputs": [
    {
     "ename": "AttributeError",
     "evalue": "module 'datetime' has no attribute 'strptime'",
     "output_type": "error",
     "traceback": [
      "\u001b[1;31m---------------------------------------------------------------------------\u001b[0m",
      "\u001b[1;31mAttributeError\u001b[0m                            Traceback (most recent call last)",
      "File \u001b[1;32mc:\\python37\\lib\\site-packages\\pandas\\io\\parsers\\base_parser.py:1039\u001b[0m, in \u001b[0;36m_make_date_converter.<locals>.converter\u001b[1;34m(*date_cols)\u001b[0m\n\u001b[0;32m   1037\u001b[0m \u001b[38;5;28;01mtry\u001b[39;00m:\n\u001b[0;32m   1038\u001b[0m     result \u001b[38;5;241m=\u001b[39m tools\u001b[38;5;241m.\u001b[39mto_datetime(\n\u001b[1;32m-> 1039\u001b[0m         \u001b[43mdate_parser\u001b[49m\u001b[43m(\u001b[49m\u001b[38;5;241;43m*\u001b[39;49m\u001b[43mdate_cols\u001b[49m\u001b[43m)\u001b[49m, errors\u001b[38;5;241m=\u001b[39m\u001b[38;5;124m\"\u001b[39m\u001b[38;5;124mignore\u001b[39m\u001b[38;5;124m\"\u001b[39m, cache\u001b[38;5;241m=\u001b[39mcache_dates\n\u001b[0;32m   1040\u001b[0m     )\n\u001b[0;32m   1041\u001b[0m     \u001b[38;5;28;01mif\u001b[39;00m \u001b[38;5;28misinstance\u001b[39m(result, datetime\u001b[38;5;241m.\u001b[39mdatetime):\n",
      "Cell \u001b[1;32mIn [10], line 6\u001b[0m, in \u001b[0;36m<lambda>\u001b[1;34m(x)\u001b[0m\n\u001b[0;32m      5\u001b[0m \u001b[38;5;28;01mimport\u001b[39;00m \u001b[38;5;21;01mdatetime\u001b[39;00m\n\u001b[1;32m----> 6\u001b[0m dParser\u001b[38;5;241m=\u001b[39m\u001b[38;5;28;01mlambda\u001b[39;00m x:\u001b[43mdatetime\u001b[49m\u001b[38;5;241;43m.\u001b[39;49m\u001b[43mstrptime\u001b[49m(x,\u001b[38;5;124m'\u001b[39m\u001b[38;5;124m%\u001b[39m\u001b[38;5;124mY-\u001b[39m\u001b[38;5;124m%\u001b[39m\u001b[38;5;124mm-\u001b[39m\u001b[38;5;132;01m%d\u001b[39;00m\u001b[38;5;124m \u001b[39m\u001b[38;5;124m%\u001b[39m\u001b[38;5;124mI-\u001b[39m\u001b[38;5;124m%\u001b[39m\u001b[38;5;124mp\u001b[39m\u001b[38;5;124m'\u001b[39m)\n\u001b[0;32m      7\u001b[0m ethDf\u001b[38;5;241m=\u001b[39mpd\u001b[38;5;241m.\u001b[39mread_csv(\u001b[38;5;124m\"\u001b[39m\u001b[38;5;124mdata\u001b[39m\u001b[38;5;124m\\\u001b[39m\u001b[38;5;124mETH_1h.csv\u001b[39m\u001b[38;5;124m\"\u001b[39m,parse_dates\u001b[38;5;241m=\u001b[39m[\u001b[38;5;124m'\u001b[39m\u001b[38;5;124mDate\u001b[39m\u001b[38;5;124m'\u001b[39m],date_parser\u001b[38;5;241m=\u001b[39mdParser)\n",
      "\u001b[1;31mAttributeError\u001b[0m: module 'datetime' has no attribute 'strptime'",
      "\nDuring handling of the above exception, another exception occurred:\n",
      "\u001b[1;31mAttributeError\u001b[0m                            Traceback (most recent call last)",
      "File \u001b[1;32mc:\\python37\\lib\\site-packages\\pandas\\io\\parsers\\base_parser.py:1047\u001b[0m, in \u001b[0;36m_make_date_converter.<locals>.converter\u001b[1;34m(*date_cols)\u001b[0m\n\u001b[0;32m   1045\u001b[0m \u001b[38;5;28;01mtry\u001b[39;00m:\n\u001b[0;32m   1046\u001b[0m     \u001b[38;5;28;01mreturn\u001b[39;00m tools\u001b[38;5;241m.\u001b[39mto_datetime(\n\u001b[1;32m-> 1047\u001b[0m         \u001b[43mparsing\u001b[49m\u001b[38;5;241;43m.\u001b[39;49m\u001b[43mtry_parse_dates\u001b[49m\u001b[43m(\u001b[49m\n\u001b[0;32m   1048\u001b[0m \u001b[43m            \u001b[49m\u001b[43mparsing\u001b[49m\u001b[38;5;241;43m.\u001b[39;49m\u001b[43mconcat_date_cols\u001b[49m\u001b[43m(\u001b[49m\u001b[43mdate_cols\u001b[49m\u001b[43m)\u001b[49m\u001b[43m,\u001b[49m\n\u001b[0;32m   1049\u001b[0m \u001b[43m            \u001b[49m\u001b[43mparser\u001b[49m\u001b[38;5;241;43m=\u001b[39;49m\u001b[43mdate_parser\u001b[49m\u001b[43m,\u001b[49m\n\u001b[0;32m   1050\u001b[0m \u001b[43m            \u001b[49m\u001b[43mdayfirst\u001b[49m\u001b[38;5;241;43m=\u001b[39;49m\u001b[43mdayfirst\u001b[49m\u001b[43m,\u001b[49m\n\u001b[0;32m   1051\u001b[0m \u001b[43m        \u001b[49m\u001b[43m)\u001b[49m,\n\u001b[0;32m   1052\u001b[0m         errors\u001b[38;5;241m=\u001b[39m\u001b[38;5;124m\"\u001b[39m\u001b[38;5;124mignore\u001b[39m\u001b[38;5;124m\"\u001b[39m,\n\u001b[0;32m   1053\u001b[0m     )\n\u001b[0;32m   1054\u001b[0m \u001b[38;5;28;01mexcept\u001b[39;00m \u001b[38;5;167;01mException\u001b[39;00m:\n",
      "File \u001b[1;32mc:\\python37\\lib\\site-packages\\pandas\\_libs\\tslibs\\parsing.pyx:632\u001b[0m, in \u001b[0;36mpandas._libs.tslibs.parsing.try_parse_dates\u001b[1;34m()\u001b[0m\n",
      "Cell \u001b[1;32mIn [10], line 6\u001b[0m, in \u001b[0;36m<lambda>\u001b[1;34m(x)\u001b[0m\n\u001b[0;32m      5\u001b[0m \u001b[38;5;28;01mimport\u001b[39;00m \u001b[38;5;21;01mdatetime\u001b[39;00m\n\u001b[1;32m----> 6\u001b[0m dParser\u001b[38;5;241m=\u001b[39m\u001b[38;5;28;01mlambda\u001b[39;00m x:\u001b[43mdatetime\u001b[49m\u001b[38;5;241;43m.\u001b[39;49m\u001b[43mstrptime\u001b[49m(x,\u001b[38;5;124m'\u001b[39m\u001b[38;5;124m%\u001b[39m\u001b[38;5;124mY-\u001b[39m\u001b[38;5;124m%\u001b[39m\u001b[38;5;124mm-\u001b[39m\u001b[38;5;132;01m%d\u001b[39;00m\u001b[38;5;124m \u001b[39m\u001b[38;5;124m%\u001b[39m\u001b[38;5;124mI-\u001b[39m\u001b[38;5;124m%\u001b[39m\u001b[38;5;124mp\u001b[39m\u001b[38;5;124m'\u001b[39m)\n\u001b[0;32m      7\u001b[0m ethDf\u001b[38;5;241m=\u001b[39mpd\u001b[38;5;241m.\u001b[39mread_csv(\u001b[38;5;124m\"\u001b[39m\u001b[38;5;124mdata\u001b[39m\u001b[38;5;124m\\\u001b[39m\u001b[38;5;124mETH_1h.csv\u001b[39m\u001b[38;5;124m\"\u001b[39m,parse_dates\u001b[38;5;241m=\u001b[39m[\u001b[38;5;124m'\u001b[39m\u001b[38;5;124mDate\u001b[39m\u001b[38;5;124m'\u001b[39m],date_parser\u001b[38;5;241m=\u001b[39mdParser)\n",
      "\u001b[1;31mAttributeError\u001b[0m: module 'datetime' has no attribute 'strptime'",
      "\nDuring handling of the above exception, another exception occurred:\n",
      "\u001b[1;31mAttributeError\u001b[0m                            Traceback (most recent call last)",
      "Cell \u001b[1;32mIn [10], line 7\u001b[0m\n\u001b[0;32m      5\u001b[0m \u001b[38;5;28;01mimport\u001b[39;00m \u001b[38;5;21;01mdatetime\u001b[39;00m\n\u001b[0;32m      6\u001b[0m dParser\u001b[38;5;241m=\u001b[39m\u001b[38;5;28;01mlambda\u001b[39;00m x:datetime\u001b[38;5;241m.\u001b[39mstrptime(x,\u001b[38;5;124m'\u001b[39m\u001b[38;5;124m%\u001b[39m\u001b[38;5;124mY-\u001b[39m\u001b[38;5;124m%\u001b[39m\u001b[38;5;124mm-\u001b[39m\u001b[38;5;132;01m%d\u001b[39;00m\u001b[38;5;124m \u001b[39m\u001b[38;5;124m%\u001b[39m\u001b[38;5;124mI-\u001b[39m\u001b[38;5;124m%\u001b[39m\u001b[38;5;124mp\u001b[39m\u001b[38;5;124m'\u001b[39m)\n\u001b[1;32m----> 7\u001b[0m ethDf\u001b[38;5;241m=\u001b[39mpd\u001b[38;5;241m.\u001b[39mread_csv(\u001b[38;5;124m\"\u001b[39m\u001b[38;5;124mdata\u001b[39m\u001b[38;5;124m\\\u001b[39m\u001b[38;5;124mETH_1h.csv\u001b[39m\u001b[38;5;124m\"\u001b[39m,parse_dates\u001b[38;5;241m=\u001b[39m[\u001b[38;5;124m'\u001b[39m\u001b[38;5;124mDate\u001b[39m\u001b[38;5;124m'\u001b[39m],date_parser\u001b[38;5;241m=\u001b[39mdParser)\n",
      "File \u001b[1;32mc:\\python37\\lib\\site-packages\\pandas\\util\\_decorators.py:311\u001b[0m, in \u001b[0;36mdeprecate_nonkeyword_arguments.<locals>.decorate.<locals>.wrapper\u001b[1;34m(*args, **kwargs)\u001b[0m\n\u001b[0;32m    305\u001b[0m \u001b[38;5;28;01mif\u001b[39;00m \u001b[38;5;28mlen\u001b[39m(args) \u001b[38;5;241m>\u001b[39m num_allow_args:\n\u001b[0;32m    306\u001b[0m     warnings\u001b[38;5;241m.\u001b[39mwarn(\n\u001b[0;32m    307\u001b[0m         msg\u001b[38;5;241m.\u001b[39mformat(arguments\u001b[38;5;241m=\u001b[39marguments),\n\u001b[0;32m    308\u001b[0m         \u001b[38;5;167;01mFutureWarning\u001b[39;00m,\n\u001b[0;32m    309\u001b[0m         stacklevel\u001b[38;5;241m=\u001b[39mstacklevel,\n\u001b[0;32m    310\u001b[0m     )\n\u001b[1;32m--> 311\u001b[0m \u001b[38;5;28;01mreturn\u001b[39;00m func(\u001b[38;5;241m*\u001b[39margs, \u001b[38;5;241m*\u001b[39m\u001b[38;5;241m*\u001b[39mkwargs)\n",
      "File \u001b[1;32mc:\\python37\\lib\\site-packages\\pandas\\io\\parsers\\readers.py:586\u001b[0m, in \u001b[0;36mread_csv\u001b[1;34m(filepath_or_buffer, sep, delimiter, header, names, index_col, usecols, squeeze, prefix, mangle_dupe_cols, dtype, engine, converters, true_values, false_values, skipinitialspace, skiprows, skipfooter, nrows, na_values, keep_default_na, na_filter, verbose, skip_blank_lines, parse_dates, infer_datetime_format, keep_date_col, date_parser, dayfirst, cache_dates, iterator, chunksize, compression, thousands, decimal, lineterminator, quotechar, quoting, doublequote, escapechar, comment, encoding, encoding_errors, dialect, error_bad_lines, warn_bad_lines, on_bad_lines, delim_whitespace, low_memory, memory_map, float_precision, storage_options)\u001b[0m\n\u001b[0;32m    571\u001b[0m kwds_defaults \u001b[38;5;241m=\u001b[39m _refine_defaults_read(\n\u001b[0;32m    572\u001b[0m     dialect,\n\u001b[0;32m    573\u001b[0m     delimiter,\n\u001b[1;32m   (...)\u001b[0m\n\u001b[0;32m    582\u001b[0m     defaults\u001b[38;5;241m=\u001b[39m{\u001b[38;5;124m\"\u001b[39m\u001b[38;5;124mdelimiter\u001b[39m\u001b[38;5;124m\"\u001b[39m: \u001b[38;5;124m\"\u001b[39m\u001b[38;5;124m,\u001b[39m\u001b[38;5;124m\"\u001b[39m},\n\u001b[0;32m    583\u001b[0m )\n\u001b[0;32m    584\u001b[0m kwds\u001b[38;5;241m.\u001b[39mupdate(kwds_defaults)\n\u001b[1;32m--> 586\u001b[0m \u001b[38;5;28;01mreturn\u001b[39;00m \u001b[43m_read\u001b[49m\u001b[43m(\u001b[49m\u001b[43mfilepath_or_buffer\u001b[49m\u001b[43m,\u001b[49m\u001b[43m \u001b[49m\u001b[43mkwds\u001b[49m\u001b[43m)\u001b[49m\n",
      "File \u001b[1;32mc:\\python37\\lib\\site-packages\\pandas\\io\\parsers\\readers.py:488\u001b[0m, in \u001b[0;36m_read\u001b[1;34m(filepath_or_buffer, kwds)\u001b[0m\n\u001b[0;32m    485\u001b[0m     \u001b[38;5;28;01mreturn\u001b[39;00m parser\n\u001b[0;32m    487\u001b[0m \u001b[38;5;28;01mwith\u001b[39;00m parser:\n\u001b[1;32m--> 488\u001b[0m     \u001b[38;5;28;01mreturn\u001b[39;00m \u001b[43mparser\u001b[49m\u001b[38;5;241;43m.\u001b[39;49m\u001b[43mread\u001b[49m\u001b[43m(\u001b[49m\u001b[43mnrows\u001b[49m\u001b[43m)\u001b[49m\n",
      "File \u001b[1;32mc:\\python37\\lib\\site-packages\\pandas\\io\\parsers\\readers.py:1047\u001b[0m, in \u001b[0;36mTextFileReader.read\u001b[1;34m(self, nrows)\u001b[0m\n\u001b[0;32m   1045\u001b[0m \u001b[38;5;28;01mdef\u001b[39;00m \u001b[38;5;21mread\u001b[39m(\u001b[38;5;28mself\u001b[39m, nrows\u001b[38;5;241m=\u001b[39m\u001b[38;5;28;01mNone\u001b[39;00m):\n\u001b[0;32m   1046\u001b[0m     nrows \u001b[38;5;241m=\u001b[39m validate_integer(\u001b[38;5;124m\"\u001b[39m\u001b[38;5;124mnrows\u001b[39m\u001b[38;5;124m\"\u001b[39m, nrows)\n\u001b[1;32m-> 1047\u001b[0m     index, columns, col_dict \u001b[38;5;241m=\u001b[39m \u001b[38;5;28;43mself\u001b[39;49m\u001b[38;5;241;43m.\u001b[39;49m\u001b[43m_engine\u001b[49m\u001b[38;5;241;43m.\u001b[39;49m\u001b[43mread\u001b[49m\u001b[43m(\u001b[49m\u001b[43mnrows\u001b[49m\u001b[43m)\u001b[49m\n\u001b[0;32m   1049\u001b[0m     \u001b[38;5;28;01mif\u001b[39;00m index \u001b[38;5;129;01mis\u001b[39;00m \u001b[38;5;28;01mNone\u001b[39;00m:\n\u001b[0;32m   1050\u001b[0m         \u001b[38;5;28;01mif\u001b[39;00m col_dict:\n\u001b[0;32m   1051\u001b[0m             \u001b[38;5;66;03m# Any column is actually fine:\u001b[39;00m\n",
      "File \u001b[1;32mc:\\python37\\lib\\site-packages\\pandas\\io\\parsers\\c_parser_wrapper.py:308\u001b[0m, in \u001b[0;36mCParserWrapper.read\u001b[1;34m(self, nrows)\u001b[0m\n\u001b[0;32m    304\u001b[0m         \u001b[38;5;28mself\u001b[39m\u001b[38;5;241m.\u001b[39m_check_data_length(names, alldata)\n\u001b[0;32m    306\u001b[0m     data \u001b[38;5;241m=\u001b[39m {k: v \u001b[38;5;28;01mfor\u001b[39;00m k, (i, v) \u001b[38;5;129;01min\u001b[39;00m \u001b[38;5;28mzip\u001b[39m(names, data_tups)}\n\u001b[1;32m--> 308\u001b[0m     names, data \u001b[38;5;241m=\u001b[39m \u001b[38;5;28;43mself\u001b[39;49m\u001b[38;5;241;43m.\u001b[39;49m\u001b[43m_do_date_conversions\u001b[49m\u001b[43m(\u001b[49m\u001b[43mnames\u001b[49m\u001b[43m,\u001b[49m\u001b[43m \u001b[49m\u001b[43mdata\u001b[49m\u001b[43m)\u001b[49m\n\u001b[0;32m    309\u001b[0m     index, names \u001b[38;5;241m=\u001b[39m \u001b[38;5;28mself\u001b[39m\u001b[38;5;241m.\u001b[39m_make_index(data, alldata, names)\n\u001b[0;32m    311\u001b[0m \u001b[38;5;66;03m# maybe create a mi on the columns\u001b[39;00m\n",
      "File \u001b[1;32mc:\\python37\\lib\\site-packages\\pandas\\io\\parsers\\base_parser.py:795\u001b[0m, in \u001b[0;36mParserBase._do_date_conversions\u001b[1;34m(self, names, data)\u001b[0m\n\u001b[0;32m    791\u001b[0m \u001b[38;5;28;01mdef\u001b[39;00m \u001b[38;5;21m_do_date_conversions\u001b[39m(\u001b[38;5;28mself\u001b[39m, names, data):\n\u001b[0;32m    792\u001b[0m     \u001b[38;5;66;03m# returns data, columns\u001b[39;00m\n\u001b[0;32m    794\u001b[0m     \u001b[38;5;28;01mif\u001b[39;00m \u001b[38;5;28mself\u001b[39m\u001b[38;5;241m.\u001b[39mparse_dates \u001b[38;5;129;01mis\u001b[39;00m \u001b[38;5;129;01mnot\u001b[39;00m \u001b[38;5;28;01mNone\u001b[39;00m:\n\u001b[1;32m--> 795\u001b[0m         data, names \u001b[38;5;241m=\u001b[39m \u001b[43m_process_date_conversion\u001b[49m\u001b[43m(\u001b[49m\n\u001b[0;32m    796\u001b[0m \u001b[43m            \u001b[49m\u001b[43mdata\u001b[49m\u001b[43m,\u001b[49m\n\u001b[0;32m    797\u001b[0m \u001b[43m            \u001b[49m\u001b[38;5;28;43mself\u001b[39;49m\u001b[38;5;241;43m.\u001b[39;49m\u001b[43m_date_conv\u001b[49m\u001b[43m,\u001b[49m\n\u001b[0;32m    798\u001b[0m \u001b[43m            \u001b[49m\u001b[38;5;28;43mself\u001b[39;49m\u001b[38;5;241;43m.\u001b[39;49m\u001b[43mparse_dates\u001b[49m\u001b[43m,\u001b[49m\n\u001b[0;32m    799\u001b[0m \u001b[43m            \u001b[49m\u001b[38;5;28;43mself\u001b[39;49m\u001b[38;5;241;43m.\u001b[39;49m\u001b[43mindex_col\u001b[49m\u001b[43m,\u001b[49m\n\u001b[0;32m    800\u001b[0m \u001b[43m            \u001b[49m\u001b[38;5;28;43mself\u001b[39;49m\u001b[38;5;241;43m.\u001b[39;49m\u001b[43mindex_names\u001b[49m\u001b[43m,\u001b[49m\n\u001b[0;32m    801\u001b[0m \u001b[43m            \u001b[49m\u001b[43mnames\u001b[49m\u001b[43m,\u001b[49m\n\u001b[0;32m    802\u001b[0m \u001b[43m            \u001b[49m\u001b[43mkeep_date_col\u001b[49m\u001b[38;5;241;43m=\u001b[39;49m\u001b[38;5;28;43mself\u001b[39;49m\u001b[38;5;241;43m.\u001b[39;49m\u001b[43mkeep_date_col\u001b[49m\u001b[43m,\u001b[49m\n\u001b[0;32m    803\u001b[0m \u001b[43m        \u001b[49m\u001b[43m)\u001b[49m\n\u001b[0;32m    805\u001b[0m     \u001b[38;5;28;01mreturn\u001b[39;00m names, data\n",
      "File \u001b[1;32mc:\\python37\\lib\\site-packages\\pandas\\io\\parsers\\base_parser.py:1093\u001b[0m, in \u001b[0;36m_process_date_conversion\u001b[1;34m(data_dict, converter, parse_spec, index_col, index_names, columns, keep_date_col)\u001b[0m\n\u001b[0;32m   1091\u001b[0m     \u001b[38;5;28;01mif\u001b[39;00m _isindex(colspec):\n\u001b[0;32m   1092\u001b[0m         \u001b[38;5;28;01mcontinue\u001b[39;00m\n\u001b[1;32m-> 1093\u001b[0m     data_dict[colspec] \u001b[38;5;241m=\u001b[39m \u001b[43mconverter\u001b[49m\u001b[43m(\u001b[49m\u001b[43mdata_dict\u001b[49m\u001b[43m[\u001b[49m\u001b[43mcolspec\u001b[49m\u001b[43m]\u001b[49m\u001b[43m)\u001b[49m\n\u001b[0;32m   1094\u001b[0m \u001b[38;5;28;01melse\u001b[39;00m:\n\u001b[0;32m   1095\u001b[0m     new_name, col, old_names \u001b[38;5;241m=\u001b[39m _try_convert_dates(\n\u001b[0;32m   1096\u001b[0m         converter, colspec, data_dict, orig_names\n\u001b[0;32m   1097\u001b[0m     )\n",
      "File \u001b[1;32mc:\\python37\\lib\\site-packages\\pandas\\io\\parsers\\base_parser.py:1055\u001b[0m, in \u001b[0;36m_make_date_converter.<locals>.converter\u001b[1;34m(*date_cols)\u001b[0m\n\u001b[0;32m   1046\u001b[0m     \u001b[38;5;28;01mreturn\u001b[39;00m tools\u001b[38;5;241m.\u001b[39mto_datetime(\n\u001b[0;32m   1047\u001b[0m         parsing\u001b[38;5;241m.\u001b[39mtry_parse_dates(\n\u001b[0;32m   1048\u001b[0m             parsing\u001b[38;5;241m.\u001b[39mconcat_date_cols(date_cols),\n\u001b[1;32m   (...)\u001b[0m\n\u001b[0;32m   1052\u001b[0m         errors\u001b[38;5;241m=\u001b[39m\u001b[38;5;124m\"\u001b[39m\u001b[38;5;124mignore\u001b[39m\u001b[38;5;124m\"\u001b[39m,\n\u001b[0;32m   1053\u001b[0m     )\n\u001b[0;32m   1054\u001b[0m \u001b[38;5;28;01mexcept\u001b[39;00m \u001b[38;5;167;01mException\u001b[39;00m:\n\u001b[1;32m-> 1055\u001b[0m     \u001b[38;5;28;01mreturn\u001b[39;00m \u001b[43mgeneric_parser\u001b[49m\u001b[43m(\u001b[49m\u001b[43mdate_parser\u001b[49m\u001b[43m,\u001b[49m\u001b[43m \u001b[49m\u001b[38;5;241;43m*\u001b[39;49m\u001b[43mdate_cols\u001b[49m\u001b[43m)\u001b[49m\n",
      "File \u001b[1;32mc:\\python37\\lib\\site-packages\\pandas\\io\\date_converters.py:100\u001b[0m, in \u001b[0;36mgeneric_parser\u001b[1;34m(parse_func, *cols)\u001b[0m\n\u001b[0;32m     98\u001b[0m \u001b[38;5;28;01mfor\u001b[39;00m i \u001b[38;5;129;01min\u001b[39;00m \u001b[38;5;28mrange\u001b[39m(N):\n\u001b[0;32m     99\u001b[0m     args \u001b[38;5;241m=\u001b[39m [c[i] \u001b[38;5;28;01mfor\u001b[39;00m c \u001b[38;5;129;01min\u001b[39;00m cols]\n\u001b[1;32m--> 100\u001b[0m     results[i] \u001b[38;5;241m=\u001b[39m \u001b[43mparse_func\u001b[49m\u001b[43m(\u001b[49m\u001b[38;5;241;43m*\u001b[39;49m\u001b[43margs\u001b[49m\u001b[43m)\u001b[49m\n\u001b[0;32m    102\u001b[0m \u001b[38;5;28;01mreturn\u001b[39;00m results\n",
      "Cell \u001b[1;32mIn [10], line 6\u001b[0m, in \u001b[0;36m<lambda>\u001b[1;34m(x)\u001b[0m\n\u001b[0;32m      1\u001b[0m \u001b[38;5;66;03m# ethDf=pd.read_csv(\"data\\ETH_1h.csv\")\u001b[39;00m\n\u001b[0;32m      2\u001b[0m \u001b[38;5;66;03m# ethDf.tail(20)\u001b[39;00m\n\u001b[0;32m      3\u001b[0m \u001b[38;5;66;03m# ethDf['Date']=pd.to_datetime(ethDf['Date'],format='%Y-%m-%d %I-%p')\u001b[39;00m\n\u001b[0;32m      5\u001b[0m \u001b[38;5;28;01mimport\u001b[39;00m \u001b[38;5;21;01mdatetime\u001b[39;00m\n\u001b[1;32m----> 6\u001b[0m dParser\u001b[38;5;241m=\u001b[39m\u001b[38;5;28;01mlambda\u001b[39;00m x:\u001b[43mdatetime\u001b[49m\u001b[38;5;241;43m.\u001b[39;49m\u001b[43mstrptime\u001b[49m(x,\u001b[38;5;124m'\u001b[39m\u001b[38;5;124m%\u001b[39m\u001b[38;5;124mY-\u001b[39m\u001b[38;5;124m%\u001b[39m\u001b[38;5;124mm-\u001b[39m\u001b[38;5;132;01m%d\u001b[39;00m\u001b[38;5;124m \u001b[39m\u001b[38;5;124m%\u001b[39m\u001b[38;5;124mI-\u001b[39m\u001b[38;5;124m%\u001b[39m\u001b[38;5;124mp\u001b[39m\u001b[38;5;124m'\u001b[39m)\n\u001b[0;32m      7\u001b[0m ethDf\u001b[38;5;241m=\u001b[39mpd\u001b[38;5;241m.\u001b[39mread_csv(\u001b[38;5;124m\"\u001b[39m\u001b[38;5;124mdata\u001b[39m\u001b[38;5;124m\\\u001b[39m\u001b[38;5;124mETH_1h.csv\u001b[39m\u001b[38;5;124m\"\u001b[39m,parse_dates\u001b[38;5;241m=\u001b[39m[\u001b[38;5;124m'\u001b[39m\u001b[38;5;124mDate\u001b[39m\u001b[38;5;124m'\u001b[39m],date_parser\u001b[38;5;241m=\u001b[39mdParser)\n",
      "\u001b[1;31mAttributeError\u001b[0m: module 'datetime' has no attribute 'strptime'"
     ]
    }
   ],
   "source": [
    "# ethDf=pd.read_csv(\"data\\ETH_1h.csv\")\n",
    "# ethDf.tail(20)\n",
    "# ethDf['Date']=pd.to_datetime(ethDf['Date'],format='%Y-%m-%d %I-%p')\n",
    "\n",
    "import datetime\n",
    "dParser=lambda x:datetime.strptime(x,'%Y-%m-%d %I-%p')\n",
    "ethDf=pd.read_csv(\"data\\ETH_1h.csv\",parse_dates=['Date'],date_parser=dParser)"
   ]
  },
  {
   "cell_type": "markdown",
   "id": "21edeccd-32c1-4f25-bfeb-fad3389755ca",
   "metadata": {},
   "source": [
    "# attributes"
   ]
  },
  {
   "cell_type": "code",
   "execution_count": null,
   "id": "e555b3e0-da08-474c-be17-bb50d1d82925",
   "metadata": {},
   "outputs": [],
   "source": [
    "# surveyDf.shape  #return row and column of df in tupple\n",
    "surveyDf.columns   #return columns name in  a list\n"
   ]
  },
  {
   "cell_type": "markdown",
   "id": "f9fcc882-10d5-406a-a4e0-8c40c7abba87",
   "metadata": {},
   "source": [
    "# methods"
   ]
  },
  {
   "cell_type": "code",
   "execution_count": null,
   "id": "073d0640-0583-47e0-9a87-cfccb73c675c",
   "metadata": {
    "scrolled": true
   },
   "outputs": [],
   "source": [
    "# surveyDf.info() #it will display all column info including column name, datatype, and nonnull rows info\n",
    "# surveyDf.head(40)  #it will return a data frame of the first 40 rows\n",
    "# surveyDf.tail(40)  #it will return a data frame of the last 40 rows\n",
    "# surveyDf['ConvertedComp'].count()"
   ]
  },
  {
   "cell_type": "markdown",
   "id": "ac94b9a9-9eb8-472b-95f7-f9d2e0dc4e38",
   "metadata": {},
   "source": [
    "# settings"
   ]
  },
  {
   "cell_type": "code",
   "execution_count": null,
   "id": "603225fb-87dd-4171-b4c4-0a9404b74bba",
   "metadata": {},
   "outputs": [],
   "source": [
    "pd.set_option('display.max_columns',85)   #it will set the display of columns to 85\n",
    "# pd.set_option('display.max_rows',85)     #it will set the display of rows to 85"
   ]
  },
  {
   "cell_type": "code",
   "execution_count": null,
   "id": "082708f4-3e4d-4512-b107-19024b01a7b5",
   "metadata": {},
   "outputs": [],
   "source": []
  }
 ],
 "metadata": {
  "kernelspec": {
   "display_name": "Python 3 (ipykernel)",
   "language": "python",
   "name": "python3"
  },
  "language_info": {
   "codemirror_mode": {
    "name": "ipython",
    "version": 3
   },
   "file_extension": ".py",
   "mimetype": "text/x-python",
   "name": "python",
   "nbconvert_exporter": "python",
   "pygments_lexer": "ipython3",
   "version": "3.9.1"
  }
 },
 "nbformat": 4,
 "nbformat_minor": 5
}
